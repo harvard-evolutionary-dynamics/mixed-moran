{
 "cells": [
  {
   "cell_type": "code",
   "execution_count": 2,
   "metadata": {},
   "outputs": [],
   "source": [
    "import numpy as np\n",
    "import matplotlib.pyplot as plt\n",
    "import seaborn as sns\n",
    "import pandas as pd\n",
    "import networkx as nx"
   ]
  },
  {
   "cell_type": "code",
   "execution_count": 3,
   "metadata": {},
   "outputs": [],
   "source": [
    "df = pd.read_csv(\"./data/moran-stats-10-results.csv\", index_col=0)"
   ]
  },
  {
   "cell_type": "code",
   "execution_count": 4,
   "metadata": {},
   "outputs": [
    {
     "data": {
      "text/html": [
       "<div>\n",
       "<style scoped>\n",
       "    .dataframe tbody tr th:only-of-type {\n",
       "        vertical-align: middle;\n",
       "    }\n",
       "\n",
       "    .dataframe tbody tr th {\n",
       "        vertical-align: top;\n",
       "    }\n",
       "\n",
       "    .dataframe thead th {\n",
       "        text-align: right;\n",
       "    }\n",
       "</style>\n",
       "<table border=\"1\" class=\"dataframe\">\n",
       "  <thead>\n",
       "    <tr style=\"text-align: right;\">\n",
       "      <th></th>\n",
       "      <th>graph</th>\n",
       "      <th>r</th>\n",
       "      <th>p_Bd</th>\n",
       "      <th>initial_mutant_location</th>\n",
       "      <th>fix_prob</th>\n",
       "      <th>fix_time</th>\n",
       "      <th>abs_time</th>\n",
       "    </tr>\n",
       "    <tr>\n",
       "      <th>N</th>\n",
       "      <th></th>\n",
       "      <th></th>\n",
       "      <th></th>\n",
       "      <th></th>\n",
       "      <th></th>\n",
       "      <th></th>\n",
       "      <th></th>\n",
       "    </tr>\n",
       "  </thead>\n",
       "  <tbody>\n",
       "    <tr>\n",
       "      <th>10</th>\n",
       "      <td>complete</td>\n",
       "      <td>0.5</td>\n",
       "      <td>0.0</td>\n",
       "      <td>512</td>\n",
       "      <td>0.001761</td>\n",
       "      <td>57.451286</td>\n",
       "      <td>14.724413</td>\n",
       "    </tr>\n",
       "    <tr>\n",
       "      <th>10</th>\n",
       "      <td>complete</td>\n",
       "      <td>0.5</td>\n",
       "      <td>0.1</td>\n",
       "      <td>512</td>\n",
       "      <td>0.001662</td>\n",
       "      <td>57.116701</td>\n",
       "      <td>14.603719</td>\n",
       "    </tr>\n",
       "    <tr>\n",
       "      <th>10</th>\n",
       "      <td>complete</td>\n",
       "      <td>0.5</td>\n",
       "      <td>0.2</td>\n",
       "      <td>512</td>\n",
       "      <td>0.001568</td>\n",
       "      <td>56.785203</td>\n",
       "      <td>14.484907</td>\n",
       "    </tr>\n",
       "    <tr>\n",
       "      <th>10</th>\n",
       "      <td>complete</td>\n",
       "      <td>0.5</td>\n",
       "      <td>0.3</td>\n",
       "      <td>512</td>\n",
       "      <td>0.001480</td>\n",
       "      <td>56.456779</td>\n",
       "      <td>14.367940</td>\n",
       "    </tr>\n",
       "    <tr>\n",
       "      <th>10</th>\n",
       "      <td>complete</td>\n",
       "      <td>0.5</td>\n",
       "      <td>0.4</td>\n",
       "      <td>512</td>\n",
       "      <td>0.001395</td>\n",
       "      <td>56.131413</td>\n",
       "      <td>14.252780</td>\n",
       "    </tr>\n",
       "    <tr>\n",
       "      <th>...</th>\n",
       "      <td>...</td>\n",
       "      <td>...</td>\n",
       "      <td>...</td>\n",
       "      <td>...</td>\n",
       "      <td>...</td>\n",
       "      <td>...</td>\n",
       "      <td>...</td>\n",
       "    </tr>\n",
       "    <tr>\n",
       "      <th>10</th>\n",
       "      <td>path</td>\n",
       "      <td>1.5</td>\n",
       "      <td>0.6</td>\n",
       "      <td>256</td>\n",
       "      <td>0.301911</td>\n",
       "      <td>254.877404</td>\n",
       "      <td>95.798229</td>\n",
       "    </tr>\n",
       "    <tr>\n",
       "      <th>10</th>\n",
       "      <td>path</td>\n",
       "      <td>1.5</td>\n",
       "      <td>0.7</td>\n",
       "      <td>256</td>\n",
       "      <td>0.301269</td>\n",
       "      <td>263.039497</td>\n",
       "      <td>97.402305</td>\n",
       "    </tr>\n",
       "    <tr>\n",
       "      <th>10</th>\n",
       "      <td>path</td>\n",
       "      <td>1.5</td>\n",
       "      <td>0.8</td>\n",
       "      <td>256</td>\n",
       "      <td>0.300383</td>\n",
       "      <td>272.308050</td>\n",
       "      <td>99.251145</td>\n",
       "    </tr>\n",
       "    <tr>\n",
       "      <th>10</th>\n",
       "      <td>path</td>\n",
       "      <td>1.5</td>\n",
       "      <td>0.9</td>\n",
       "      <td>256</td>\n",
       "      <td>0.299235</td>\n",
       "      <td>282.956839</td>\n",
       "      <td>101.413134</td>\n",
       "    </tr>\n",
       "    <tr>\n",
       "      <th>10</th>\n",
       "      <td>path</td>\n",
       "      <td>1.5</td>\n",
       "      <td>1.0</td>\n",
       "      <td>256</td>\n",
       "      <td>0.297805</td>\n",
       "      <td>295.361111</td>\n",
       "      <td>103.982549</td>\n",
       "    </tr>\n",
       "  </tbody>\n",
       "</table>\n",
       "<p>726 rows × 7 columns</p>\n",
       "</div>"
      ],
      "text/plain": [
       "       graph    r  p_Bd  initial_mutant_location  fix_prob    fix_time  \\\n",
       "N                                                                        \n",
       "10  complete  0.5   0.0                      512  0.001761   57.451286   \n",
       "10  complete  0.5   0.1                      512  0.001662   57.116701   \n",
       "10  complete  0.5   0.2                      512  0.001568   56.785203   \n",
       "10  complete  0.5   0.3                      512  0.001480   56.456779   \n",
       "10  complete  0.5   0.4                      512  0.001395   56.131413   \n",
       "..       ...  ...   ...                      ...       ...         ...   \n",
       "10      path  1.5   0.6                      256  0.301911  254.877404   \n",
       "10      path  1.5   0.7                      256  0.301269  263.039497   \n",
       "10      path  1.5   0.8                      256  0.300383  272.308050   \n",
       "10      path  1.5   0.9                      256  0.299235  282.956839   \n",
       "10      path  1.5   1.0                      256  0.297805  295.361111   \n",
       "\n",
       "      abs_time  \n",
       "N               \n",
       "10   14.724413  \n",
       "10   14.603719  \n",
       "10   14.484907  \n",
       "10   14.367940  \n",
       "10   14.252780  \n",
       "..         ...  \n",
       "10   95.798229  \n",
       "10   97.402305  \n",
       "10   99.251145  \n",
       "10  101.413134  \n",
       "10  103.982549  \n",
       "\n",
       "[726 rows x 7 columns]"
      ]
     },
     "execution_count": 4,
     "metadata": {},
     "output_type": "execute_result"
    }
   ],
   "source": [
    "df"
   ]
  },
  {
   "cell_type": "code",
   "execution_count": 5,
   "metadata": {},
   "outputs": [],
   "source": [
    "from matplotlib import rcParams\n",
    "sns.set_theme(font_scale=2.5)\n",
    "rcParams['font.family'] = 'sans-serif'\n",
    "sns.set_style(\"ticks\", {\n",
    "  'axes.grid' : False,\n",
    "  #   'axes.spines.left': False,\n",
    "  'axes.spines.right': False,\n",
    "  'axes.spines.top': False,\n",
    "  #   'axes.spines.bottom': False,\n",
    "})"
   ]
  },
  {
   "cell_type": "code",
   "execution_count": 6,
   "metadata": {},
   "outputs": [
    {
     "name": "stderr",
     "output_type": "stream",
     "text": [
      "/var/folders/nr/wh_xmblj0d57jnlt98fssqqh0000gp/T/ipykernel_37877/4255301237.py:9: RuntimeWarning: More than 20 figures have been opened. Figures created through the pyplot interface (`matplotlib.pyplot.figure`) are retained until explicitly closed and may consume too much memory. (To control this warning, see the rcParam `figure.max_open_warning`). Consider using `matplotlib.pyplot.close()`.\n",
      "  fig = plt.figure(figsize=(25, 10))\n"
     ]
    },
    {
     "data": {
      "text/plain": [
       "<Figure size 2500x1000 with 0 Axes>"
      ]
     },
     "metadata": {},
     "output_type": "display_data"
    },
    {
     "data": {
      "text/plain": [
       "<Figure size 2500x1000 with 0 Axes>"
      ]
     },
     "metadata": {},
     "output_type": "display_data"
    },
    {
     "data": {
      "text/plain": [
       "<Figure size 2500x1000 with 0 Axes>"
      ]
     },
     "metadata": {},
     "output_type": "display_data"
    },
    {
     "data": {
      "text/plain": [
       "<Figure size 2500x1000 with 0 Axes>"
      ]
     },
     "metadata": {},
     "output_type": "display_data"
    },
    {
     "data": {
      "text/plain": [
       "<Figure size 2500x1000 with 0 Axes>"
      ]
     },
     "metadata": {},
     "output_type": "display_data"
    },
    {
     "data": {
      "text/plain": [
       "<Figure size 2500x1000 with 0 Axes>"
      ]
     },
     "metadata": {},
     "output_type": "display_data"
    },
    {
     "data": {
      "text/plain": [
       "<Figure size 2500x1000 with 0 Axes>"
      ]
     },
     "metadata": {},
     "output_type": "display_data"
    },
    {
     "data": {
      "text/plain": [
       "<Figure size 2500x1000 with 0 Axes>"
      ]
     },
     "metadata": {},
     "output_type": "display_data"
    },
    {
     "data": {
      "text/plain": [
       "<Figure size 2500x1000 with 0 Axes>"
      ]
     },
     "metadata": {},
     "output_type": "display_data"
    },
    {
     "data": {
      "text/plain": [
       "<Figure size 2500x1000 with 0 Axes>"
      ]
     },
     "metadata": {},
     "output_type": "display_data"
    },
    {
     "data": {
      "text/plain": [
       "<Figure size 2500x1000 with 0 Axes>"
      ]
     },
     "metadata": {},
     "output_type": "display_data"
    },
    {
     "data": {
      "text/plain": [
       "<Figure size 2500x1000 with 0 Axes>"
      ]
     },
     "metadata": {},
     "output_type": "display_data"
    },
    {
     "data": {
      "text/plain": [
       "<Figure size 2500x1000 with 0 Axes>"
      ]
     },
     "metadata": {},
     "output_type": "display_data"
    },
    {
     "data": {
      "text/plain": [
       "<Figure size 2500x1000 with 0 Axes>"
      ]
     },
     "metadata": {},
     "output_type": "display_data"
    },
    {
     "data": {
      "text/plain": [
       "<Figure size 2500x1000 with 0 Axes>"
      ]
     },
     "metadata": {},
     "output_type": "display_data"
    },
    {
     "data": {
      "text/plain": [
       "<Figure size 2500x1000 with 0 Axes>"
      ]
     },
     "metadata": {},
     "output_type": "display_data"
    },
    {
     "data": {
      "text/plain": [
       "<Figure size 2500x1000 with 0 Axes>"
      ]
     },
     "metadata": {},
     "output_type": "display_data"
    },
    {
     "data": {
      "text/plain": [
       "<Figure size 2500x1000 with 0 Axes>"
      ]
     },
     "metadata": {},
     "output_type": "display_data"
    },
    {
     "data": {
      "text/plain": [
       "<Figure size 2500x1000 with 0 Axes>"
      ]
     },
     "metadata": {},
     "output_type": "display_data"
    },
    {
     "data": {
      "text/plain": [
       "<Figure size 2500x1000 with 0 Axes>"
      ]
     },
     "metadata": {},
     "output_type": "display_data"
    },
    {
     "data": {
      "text/plain": [
       "<Figure size 2500x1000 with 0 Axes>"
      ]
     },
     "metadata": {},
     "output_type": "display_data"
    },
    {
     "data": {
      "text/plain": [
       "<Figure size 2500x1000 with 0 Axes>"
      ]
     },
     "metadata": {},
     "output_type": "display_data"
    },
    {
     "data": {
      "text/plain": [
       "<Figure size 2500x1000 with 0 Axes>"
      ]
     },
     "metadata": {},
     "output_type": "display_data"
    },
    {
     "data": {
      "text/plain": [
       "<Figure size 2500x1000 with 0 Axes>"
      ]
     },
     "metadata": {},
     "output_type": "display_data"
    }
   ],
   "source": [
    "N = 10\n",
    "for graph in df['graph'].unique():\n",
    "  for initial_mutant_location in df['initial_mutant_location'].unique():\n",
    "    for y, ylabel in (\n",
    "      ('abs_time', 'Absorption time, AT'),\n",
    "      ('fix_time', 'Fixation time, $T$'),\n",
    "      ('fix_prob', 'Fixation probability, fp'),\n",
    "    ):\n",
    "      fig = plt.figure(figsize=(25, 10))\n",
    "      sub_df = df[(df['graph'] == graph) & (df['initial_mutant_location'] == initial_mutant_location)]\n",
    "      if sub_df.empty: continue\n",
    "      g = sns.lineplot(\n",
    "        data=sub_df,\n",
    "        x=\"p_Bd\",\n",
    "        y=y,\n",
    "        hue='r',\n",
    "        # hue=\"graph\",\n",
    "        palette=\"vlag\",\n",
    "        # style=\"graph_type\",\n",
    "        legend=False,\n",
    "        lw=6,\n",
    "        # dashes=False,\n",
    "      )\n",
    "      g.set(\n",
    "        xlabel=\"Probability of Birth-death step, $p_{\\\\text{Bd}}$\",\n",
    "        ylabel=ylabel,\n",
    "      )\n",
    "\n",
    "      norm = plt.Normalize(.5, 1.5)\n",
    "      sm = plt.cm.ScalarMappable(cmap='vlag', norm=norm)\n",
    "      g.figure.colorbar(\n",
    "        sm,\n",
    "        ax=plt.gca(),\n",
    "        label='Fitness, $r$',\n",
    "        ticks=[0.5, 1, 1.5],\n",
    "      )\n",
    "      if y == 'fix_prob':\n",
    "        g.set_aspect('equal', 'box')\n",
    "      g.figure.savefig(\n",
    "        f'/Users/david/Dropbox/David B/Mixed Moran/Pretty Figures/4-{graph}-{y}-vs-pbd-N{N}-iml{initial_mutant_location}.png',\n",
    "        bbox_inches='tight',\n",
    "        dpi=300,\n",
    "      )\n",
    "      plt.clf()"
   ]
  },
  {
   "cell_type": "code",
   "execution_count": null,
   "metadata": {},
   "outputs": [],
   "source": []
  },
  {
   "cell_type": "code",
   "execution_count": null,
   "metadata": {},
   "outputs": [],
   "source": []
  },
  {
   "cell_type": "code",
   "execution_count": null,
   "metadata": {},
   "outputs": [],
   "source": []
  },
  {
   "cell_type": "code",
   "execution_count": null,
   "metadata": {},
   "outputs": [],
   "source": []
  },
  {
   "cell_type": "code",
   "execution_count": null,
   "metadata": {},
   "outputs": [],
   "source": []
  }
 ],
 "metadata": {
  "kernelspec": {
   "display_name": "Python 3",
   "language": "python",
   "name": "python3"
  },
  "language_info": {
   "codemirror_mode": {
    "name": "ipython",
    "version": 3
   },
   "file_extension": ".py",
   "mimetype": "text/x-python",
   "name": "python",
   "nbconvert_exporter": "python",
   "pygments_lexer": "ipython3",
   "version": "3.11.10"
  }
 },
 "nbformat": 4,
 "nbformat_minor": 2
}
